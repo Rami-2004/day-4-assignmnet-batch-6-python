{
 "cells": [
  {
   "cell_type": "markdown",
   "metadata": {},
   "source": [
    "# 1]Find all the occurances of substring in the given string"
   ]
  },
  {
   "cell_type": "code",
   "execution_count": 18,
   "metadata": {},
   "outputs": [
    {
     "name": "stdout",
     "output_type": "stream",
     "text": [
      "0\n",
      "18\n",
      "4\n"
     ]
    }
   ],
   "source": [
    "string = \"RAMI  RAMI  RAMI  RAMI\"\n",
    "print (string.find(\"RAMI\")) # 0\n",
    "print (string.rfind(\"RAMI\")) # 15\n",
    "#this is the ASSIGNMENT\n",
    "print (string.count(\"RAMI\")) # [0,5,1]"
   ]
  },
  {
   "cell_type": "code",
   "execution_count": 17,
   "metadata": {},
   "outputs": [
    {
     "name": "stdout",
     "output_type": "stream",
     "text": [
      "3\n",
      "1\n",
      "1\n",
      "7\n"
     ]
    }
   ],
   "source": [
    "# defining a string\n",
    "strl = \"WHAT WE THINK WE BECAME WE ARE PYTHON PROGRAMMER\"\n",
    "# finding occurrences of 'WE'\n",
    "# in complete string\n",
    "print(strl.count(\"WE\"))\n",
    "# finding occurrences of 'ARE'\n",
    "# in complete string\n",
    "print(strl.count(\"ARE\"))\n",
    "# finding occurrences of 'WE'\n",
    "# from 0 to 15 index\n",
    "print(strl.count(\"WE\",0,15))\n",
    "# finding occurrences of 'E' \n",
    "# in complete string\n",
    "print(strl.count(\"E\"))"
   ]
  },
  {
   "cell_type": "markdown",
   "metadata": {},
   "source": [
    "# finding all the index values of a string\n"
   ]
  },
  {
   "cell_type": "code",
   "execution_count": 8,
   "metadata": {},
   "outputs": [
    {
     "name": "stdout",
     "output_type": "stream",
     "text": [
      "WHAT WE THINK WE BECAME WE ARE PYTHON PROGRAMMER\n"
     ]
    }
   ],
   "source": [
    "strl = \"WHAT WE THINK WE BECAME WE ARE PYTHON PROGRAMMER\"\n",
    "print(strl[:56])"
   ]
  },
  {
   "cell_type": "markdown",
   "metadata": {},
   "source": [
    "# 2.Checking whether the string is Lower or Upper?\n"
   ]
  },
  {
   "cell_type": "code",
   "execution_count": 9,
   "metadata": {},
   "outputs": [
    {
     "data": {
      "text/plain": [
       "False"
      ]
     },
     "execution_count": 9,
     "metadata": {},
     "output_type": "execute_result"
    }
   ],
   "source": [
    "name=\"RAMARAO\"\n",
    "name.islower()"
   ]
  },
  {
   "cell_type": "code",
   "execution_count": 10,
   "metadata": {},
   "outputs": [
    {
     "data": {
      "text/plain": [
       "True"
      ]
     },
     "execution_count": 10,
     "metadata": {},
     "output_type": "execute_result"
    }
   ],
   "source": [
    "name=\"RAMARAO\"\n",
    "name.isupper()"
   ]
  },
  {
   "cell_type": "code",
   "execution_count": 12,
   "metadata": {},
   "outputs": [
    {
     "data": {
      "text/plain": [
       "True"
      ]
     },
     "execution_count": 12,
     "metadata": {},
     "output_type": "execute_result"
    }
   ],
   "source": [
    "name=\"ramarao\"\n",
    "name.islower()"
   ]
  },
  {
   "cell_type": "code",
   "execution_count": 13,
   "metadata": {},
   "outputs": [
    {
     "data": {
      "text/plain": [
       "False"
      ]
     },
     "execution_count": 13,
     "metadata": {},
     "output_type": "execute_result"
    }
   ],
   "source": [
    "name=\"ramarao\"\n",
    "name.isupper()"
   ]
  }
 ],
 "metadata": {
  "kernelspec": {
   "display_name": "Python 3",
   "language": "python",
   "name": "python3"
  },
  "language_info": {
   "codemirror_mode": {
    "name": "ipython",
    "version": 3
   },
   "file_extension": ".py",
   "mimetype": "text/x-python",
   "name": "python",
   "nbconvert_exporter": "python",
   "pygments_lexer": "ipython3",
   "version": "3.7.6"
  }
 },
 "nbformat": 4,
 "nbformat_minor": 4
}
